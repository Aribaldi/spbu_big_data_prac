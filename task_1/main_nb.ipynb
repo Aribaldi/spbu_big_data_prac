{
 "cells": [
  {
   "cell_type": "code",
   "execution_count": 1,
   "metadata": {},
   "outputs": [],
   "source": [
    "import numpy as np\n",
    "from src import generate_file, read_file, read_mm_file\n",
    "from pathlib import Path\n",
    "import multiprocessing as mp\n",
    "from multiprocessing import Process, Pool, Manager"
   ]
  },
  {
   "cell_type": "code",
   "execution_count": 2,
   "metadata": {},
   "outputs": [],
   "source": [
    "FILE_SIZE_GB = 2\n",
    "FILE_PATH = Path('./output.npy')\n",
    "#generate_file(FILE_SIZE_GB)"
   ]
  },
  {
   "cell_type": "markdown",
   "metadata": {},
   "source": [
    "# Последовательное чтение\n",
    "Выполнение операций в одном процессе"
   ]
  },
  {
   "cell_type": "markdown",
   "metadata": {},
   "source": [
    "С использованием функций numpy"
   ]
  },
  {
   "cell_type": "code",
   "execution_count": 5,
   "metadata": {},
   "outputs": [
    {
     "name": "stdout",
     "output_type": "stream",
     "text": [
      " sum: 1152924073519233306 \n",
      " min: 5 \n",
      " max:4294967295\n",
      "CPU times: user 2.69 s, sys: 2.78 s, total: 5.47 s\n",
      "Wall time: 19.1 s\n"
     ]
    }
   ],
   "source": [
    "%%time\n",
    "data_ = read_file()\n",
    "sum_, min_, max_ = np.sum(data_), np.min(data_), np.max(data_)\n",
    "print(f' sum: {sum_} \\n min: {min_} \\n max:{max_}')"
   ]
  },
  {
   "cell_type": "markdown",
   "metadata": {},
   "source": [
    "С использованием стандартных функций"
   ]
  },
  {
   "cell_type": "code",
   "execution_count": 15,
   "metadata": {},
   "outputs": [
    {
     "name": "stdout",
     "output_type": "stream",
     "text": [
      " sum: 1152924073519233306 \n",
      " min: 5 \n",
      " max:4294967295\n",
      "CPU times: user 2min 42s, sys: 0 ns, total: 2min 42s\n",
      "Wall time: 2min 48s\n"
     ]
    }
   ],
   "source": [
    "%%time\n",
    "data_ = read_file()\n",
    "sum_, min_, max_ = sum(data_), min(data_), max(data_)\n",
    "print(f' sum: {sum_} \\n min: {min_} \\n max:{max_}')"
   ]
  },
  {
   "cell_type": "markdown",
   "metadata": {},
   "source": [
    "# Параллельное чтение"
   ]
  },
  {
   "cell_type": "markdown",
   "metadata": {},
   "source": [
    "Рассмотрены подходы: \n",
    "- с распараллеливанием по задачам / по данным\n",
    "- с использованием mmap-файла, определенного с помощью модуля mmap стандартной библиотеки / с помощью numpy"
   ]
  },
  {
   "cell_type": "markdown",
   "metadata": {},
   "source": [
    "Вариант с параллелизацией по задачам (толком не понял, как это сделать через mp.Pool, поэтому такой вариант):"
   ]
  },
  {
   "cell_type": "code",
   "execution_count": 6,
   "metadata": {},
   "outputs": [],
   "source": [
    "def task_parallelism(data):\n",
    "    def sum_job(arr, q):\n",
    "        q.put(np.sum(arr))\n",
    "\n",
    "    def max_job(arr, q):\n",
    "        q.put(np.max(arr))\n",
    "\n",
    "    def min_job(arr, q):\n",
    "        q.put(np.min(arr))\n",
    "\n",
    "    q = mp.Queue()\n",
    "    jobs = (sum_job, max_job, min_job)\n",
    "    args = ((data, q), (data, q), (data, q))\n",
    "\n",
    "    for job, arg in zip(jobs, args):\n",
    "        mp.Process(target=job, args=arg).start()\n",
    "\n",
    "    for i in range(len(jobs)):\n",
    "        print(f'Result of {jobs[i].__name__}: {q.get()}')"
   ]
  },
  {
   "cell_type": "code",
   "execution_count": 7,
   "metadata": {},
   "outputs": [
    {
     "name": "stdout",
     "output_type": "stream",
     "text": [
      "Result of sum_job: 5\n",
      "Result of max_job: 1152924073519233306\n",
      "Result of min_job: 4294967295\n",
      "CPU times: user 2.62 ms, sys: 211 ms, total: 213 ms\n",
      "Wall time: 5.57 s\n"
     ]
    }
   ],
   "source": [
    "%%time\n",
    "custom_mmap = read_mm_file()\n",
    "task_parallelism(custom_mmap)"
   ]
  },
  {
   "cell_type": "code",
   "execution_count": 8,
   "metadata": {},
   "outputs": [
    {
     "name": "stdout",
     "output_type": "stream",
     "text": [
      "Result of sum_job: 4294967295\n",
      "Result of max_job: 1152924073519233306\n",
      "Result of min_job: 5\n",
      "CPU times: user 0 ns, sys: 193 ms, total: 193 ms\n",
      "Wall time: 1.37 s\n"
     ]
    }
   ],
   "source": [
    "%%time\n",
    "dt = np.dtype(np.uint32).newbyteorder('big')\n",
    "np_mmap = np.memmap('./output.npy', dtype=dt, mode='r') \n",
    "task_parallelism(np_mmap)"
   ]
  },
  {
   "cell_type": "markdown",
   "metadata": {},
   "source": [
    "Вариант с параллелизацией по данным"
   ]
  },
  {
   "cell_type": "code",
   "execution_count": 9,
   "metadata": {},
   "outputs": [],
   "source": [
    "def get_res(array):\n",
    "    return np.sum(array), np.min(array), np.max(array)"
   ]
  },
  {
   "cell_type": "code",
   "execution_count": 10,
   "metadata": {},
   "outputs": [],
   "source": [
    "def data_parallelism(data):\n",
    "    with Pool(4) as pool:\n",
    "        res = np.array(pool.map(get_res, data))\n",
    "    return np.sum(res[:, 0]), np.min(res[:, 1]), np.max(res[:, 2])"
   ]
  },
  {
   "cell_type": "code",
   "execution_count": 13,
   "metadata": {},
   "outputs": [
    {
     "name": "stdout",
     "output_type": "stream",
     "text": [
      "CPU times: user 1.1 s, sys: 3.17 s, total: 4.27 s\n",
      "Wall time: 14.1 s\n"
     ]
    },
    {
     "data": {
      "text/plain": [
       "(1152924073519233306, 5, 4294967295)"
      ]
     },
     "execution_count": 13,
     "metadata": {},
     "output_type": "execute_result"
    }
   ],
   "source": [
    "%%time\n",
    "custom_mmap = read_mm_file()\n",
    "custom_mmap_split = np.array_split(custom_mmap, 4)\n",
    "data_parallelism(custom_mmap_split)"
   ]
  },
  {
   "cell_type": "code",
   "execution_count": 14,
   "metadata": {},
   "outputs": [
    {
     "name": "stdout",
     "output_type": "stream",
     "text": [
      "CPU times: user 1.01 s, sys: 2.87 s, total: 3.88 s\n",
      "Wall time: 11.4 s\n"
     ]
    },
    {
     "data": {
      "text/plain": [
       "(1152924073519233306, 5, 4294967295)"
      ]
     },
     "execution_count": 14,
     "metadata": {},
     "output_type": "execute_result"
    }
   ],
   "source": [
    "%%time\n",
    "dt = np.dtype(np.uint32).newbyteorder('big')\n",
    "np_mmap = np.memmap('./output.npy', dtype=dt, mode='r') \n",
    "np_mmap_split = np.array_split(np_mmap, 4)\n",
    "data_parallelism(np_mmap_split)"
   ]
  },
  {
   "cell_type": "markdown",
   "metadata": {},
   "source": [
    "При последовательном подходе, как и следовало ожидать, оптимальными оказались функции numpy.\n",
    "При параллельном подходе лучше всего себя показал метод с распараллеливанием по задачам + np.mmap. "
   ]
  }
 ],
 "metadata": {
  "interpreter": {
   "hash": "568611d55fde87be79ae9868102cfdf747b81929613229963f1fc4cfeb0900c2"
  },
  "kernelspec": {
   "display_name": "Python 3 (ipykernel)",
   "language": "python",
   "name": "python3"
  },
  "language_info": {
   "codemirror_mode": {
    "name": "ipython",
    "version": 3
   },
   "file_extension": ".py",
   "mimetype": "text/x-python",
   "name": "python",
   "nbconvert_exporter": "python",
   "pygments_lexer": "ipython3",
   "version": "3.9.12"
  }
 },
 "nbformat": 4,
 "nbformat_minor": 4
}
