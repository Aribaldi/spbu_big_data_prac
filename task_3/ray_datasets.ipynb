{
 "cells": [
  {
   "cell_type": "code",
   "execution_count": 1,
   "metadata": {},
   "outputs": [
    {
     "ename": "ModuleNotFoundError",
     "evalue": "No module named 'grpc'",
     "output_type": "error",
     "traceback": [
      "\u001b[0;31m---------------------------------------------------------------------------\u001b[0m",
      "\u001b[0;31mModuleNotFoundError\u001b[0m                       Traceback (most recent call last)",
      "\u001b[1;32m/home/iref/PycharmProjects/spbu_big_data_practice/task_3/ray_datasets.ipynb Cell 1'\u001b[0m in \u001b[0;36m<cell line: 1>\u001b[0;34m()\u001b[0m\n\u001b[0;32m----> <a href='vscode-notebook-cell:/home/iref/PycharmProjects/spbu_big_data_practice/task_3/ray_datasets.ipynb#ch0000000?line=0'>1</a>\u001b[0m \u001b[39mimport\u001b[39;00m \u001b[39mray\u001b[39;00m\n",
      "File \u001b[0;32m~/.conda/envs/spbu_big_data/lib/python3.9/site-packages/ray/__init__.py:108\u001b[0m, in \u001b[0;36m<module>\u001b[0;34m\u001b[0m\n\u001b[1;32m    <a href='file:///home/iref/.conda/envs/spbu_big_data/lib/python3.9/site-packages/ray/__init__.py?line=104'>105</a>\u001b[0m __commit__ \u001b[39m=\u001b[39m \u001b[39m\"\u001b[39m\u001b[39m4863e33856b54ccf8add5cbe75e41558850a1b75\u001b[39m\u001b[39m\"\u001b[39m\n\u001b[1;32m    <a href='file:///home/iref/.conda/envs/spbu_big_data/lib/python3.9/site-packages/ray/__init__.py?line=105'>106</a>\u001b[0m __version__ \u001b[39m=\u001b[39m \u001b[39m\"\u001b[39m\u001b[39m1.12.1\u001b[39m\u001b[39m\"\u001b[39m\n\u001b[0;32m--> <a href='file:///home/iref/.conda/envs/spbu_big_data/lib/python3.9/site-packages/ray/__init__.py?line=107'>108</a>\u001b[0m \u001b[39mimport\u001b[39;00m \u001b[39mray\u001b[39;00m\u001b[39m.\u001b[39;00m\u001b[39m_raylet\u001b[39;00m  \u001b[39m# noqa: E402\u001b[39;00m\n\u001b[1;32m    <a href='file:///home/iref/.conda/envs/spbu_big_data/lib/python3.9/site-packages/ray/__init__.py?line=109'>110</a>\u001b[0m \u001b[39mfrom\u001b[39;00m \u001b[39mray\u001b[39;00m\u001b[39m.\u001b[39;00m\u001b[39m_raylet\u001b[39;00m \u001b[39mimport\u001b[39;00m (  \u001b[39m# noqa: E402\u001b[39;00m\n\u001b[1;32m    <a href='file:///home/iref/.conda/envs/spbu_big_data/lib/python3.9/site-packages/ray/__init__.py?line=110'>111</a>\u001b[0m     ActorClassID,\n\u001b[1;32m    <a href='file:///home/iref/.conda/envs/spbu_big_data/lib/python3.9/site-packages/ray/__init__.py?line=111'>112</a>\u001b[0m     ActorID,\n\u001b[0;32m   (...)\u001b[0m\n\u001b[1;32m    <a href='file:///home/iref/.conda/envs/spbu_big_data/lib/python3.9/site-packages/ray/__init__.py?line=122'>123</a>\u001b[0m     PlacementGroupID,\n\u001b[1;32m    <a href='file:///home/iref/.conda/envs/spbu_big_data/lib/python3.9/site-packages/ray/__init__.py?line=123'>124</a>\u001b[0m )\n\u001b[1;32m    <a href='file:///home/iref/.conda/envs/spbu_big_data/lib/python3.9/site-packages/ray/__init__.py?line=125'>126</a>\u001b[0m _config \u001b[39m=\u001b[39m _Config()\n",
      "File \u001b[0;32mpython/ray/_raylet.pyx:127\u001b[0m, in \u001b[0;36minit ray._raylet\u001b[0;34m()\u001b[0m\n",
      "File \u001b[0;32m~/.conda/envs/spbu_big_data/lib/python3.9/site-packages/ray/util/__init__.py:4\u001b[0m, in \u001b[0;36m<module>\u001b[0;34m\u001b[0m\n\u001b[1;32m      <a href='file:///home/iref/.conda/envs/spbu_big_data/lib/python3.9/site-packages/ray/util/__init__.py?line=0'>1</a>\u001b[0m \u001b[39mfrom\u001b[39;00m \u001b[39mtyping\u001b[39;00m \u001b[39mimport\u001b[39;00m List\n\u001b[1;32m      <a href='file:///home/iref/.conda/envs/spbu_big_data/lib/python3.9/site-packages/ray/util/__init__.py?line=2'>3</a>\u001b[0m \u001b[39mimport\u001b[39;00m \u001b[39mray\u001b[39;00m\n\u001b[0;32m----> <a href='file:///home/iref/.conda/envs/spbu_big_data/lib/python3.9/site-packages/ray/util/__init__.py?line=3'>4</a>\u001b[0m \u001b[39mfrom\u001b[39;00m \u001b[39mray\u001b[39;00m\u001b[39m.\u001b[39;00m\u001b[39m_private\u001b[39;00m\u001b[39m.\u001b[39;00m\u001b[39mservices\u001b[39;00m \u001b[39mimport\u001b[39;00m get_node_ip_address\n\u001b[1;32m      <a href='file:///home/iref/.conda/envs/spbu_big_data/lib/python3.9/site-packages/ray/util/__init__.py?line=4'>5</a>\u001b[0m \u001b[39mfrom\u001b[39;00m \u001b[39mray\u001b[39;00m\u001b[39m.\u001b[39;00m\u001b[39mutil\u001b[39;00m \u001b[39mimport\u001b[39;00m \u001b[39miter\u001b[39m\n\u001b[1;32m      <a href='file:///home/iref/.conda/envs/spbu_big_data/lib/python3.9/site-packages/ray/util/__init__.py?line=5'>6</a>\u001b[0m \u001b[39mfrom\u001b[39;00m \u001b[39mray\u001b[39;00m\u001b[39m.\u001b[39;00m\u001b[39mutil\u001b[39;00m\u001b[39m.\u001b[39;00m\u001b[39mannotations\u001b[39;00m \u001b[39mimport\u001b[39;00m PublicAPI\n",
      "File \u001b[0;32m~/.conda/envs/spbu_big_data/lib/python3.9/site-packages/ray/_private/services.py:25\u001b[0m, in \u001b[0;36m<module>\u001b[0;34m\u001b[0m\n\u001b[1;32m     <a href='file:///home/iref/.conda/envs/spbu_big_data/lib/python3.9/site-packages/ray/_private/services.py?line=22'>23</a>\u001b[0m \u001b[39mimport\u001b[39;00m \u001b[39mray\u001b[39;00m\u001b[39m.\u001b[39;00m\u001b[39mray_constants\u001b[39;00m \u001b[39mas\u001b[39;00m \u001b[39mray_constants\u001b[39;00m\n\u001b[1;32m     <a href='file:///home/iref/.conda/envs/spbu_big_data/lib/python3.9/site-packages/ray/_private/services.py?line=23'>24</a>\u001b[0m \u001b[39mfrom\u001b[39;00m \u001b[39mray\u001b[39;00m\u001b[39m.\u001b[39;00m\u001b[39m_raylet\u001b[39;00m \u001b[39mimport\u001b[39;00m GcsClientOptions\n\u001b[0;32m---> <a href='file:///home/iref/.conda/envs/spbu_big_data/lib/python3.9/site-packages/ray/_private/services.py?line=24'>25</a>\u001b[0m \u001b[39mfrom\u001b[39;00m \u001b[39mray\u001b[39;00m\u001b[39m.\u001b[39;00m\u001b[39m_private\u001b[39;00m\u001b[39m.\u001b[39;00m\u001b[39mgcs_utils\u001b[39;00m \u001b[39mimport\u001b[39;00m GcsClient\n\u001b[1;32m     <a href='file:///home/iref/.conda/envs/spbu_big_data/lib/python3.9/site-packages/ray/_private/services.py?line=25'>26</a>\u001b[0m \u001b[39mfrom\u001b[39;00m \u001b[39mray\u001b[39;00m\u001b[39m.\u001b[39;00m\u001b[39mcore\u001b[39;00m\u001b[39m.\u001b[39;00m\u001b[39mgenerated\u001b[39;00m\u001b[39m.\u001b[39;00m\u001b[39mcommon_pb2\u001b[39;00m \u001b[39mimport\u001b[39;00m Language\n\u001b[1;32m     <a href='file:///home/iref/.conda/envs/spbu_big_data/lib/python3.9/site-packages/ray/_private/services.py?line=27'>28</a>\u001b[0m \u001b[39m# Import psutil and colorama after ray so the packaged version is used.\u001b[39;00m\n",
      "File \u001b[0;32m~/.conda/envs/spbu_big_data/lib/python3.9/site-packages/ray/_private/gcs_utils.py:7\u001b[0m, in \u001b[0;36m<module>\u001b[0;34m\u001b[0m\n\u001b[1;32m      <a href='file:///home/iref/.conda/envs/spbu_big_data/lib/python3.9/site-packages/ray/_private/gcs_utils.py?line=3'>4</a>\u001b[0m \u001b[39mfrom\u001b[39;00m \u001b[39mfunctools\u001b[39;00m \u001b[39mimport\u001b[39;00m wraps\n\u001b[1;32m      <a href='file:///home/iref/.conda/envs/spbu_big_data/lib/python3.9/site-packages/ray/_private/gcs_utils.py?line=4'>5</a>\u001b[0m \u001b[39mimport\u001b[39;00m \u001b[39mtime\u001b[39;00m\n\u001b[0;32m----> <a href='file:///home/iref/.conda/envs/spbu_big_data/lib/python3.9/site-packages/ray/_private/gcs_utils.py?line=6'>7</a>\u001b[0m \u001b[39mimport\u001b[39;00m \u001b[39mgrpc\u001b[39;00m\n\u001b[1;32m      <a href='file:///home/iref/.conda/envs/spbu_big_data/lib/python3.9/site-packages/ray/_private/gcs_utils.py?line=8'>9</a>\u001b[0m \u001b[39mfrom\u001b[39;00m \u001b[39mray\u001b[39;00m\u001b[39m.\u001b[39;00m\u001b[39mcore\u001b[39;00m\u001b[39m.\u001b[39;00m\u001b[39mgenerated\u001b[39;00m\u001b[39m.\u001b[39;00m\u001b[39mcommon_pb2\u001b[39;00m \u001b[39mimport\u001b[39;00m ErrorType\n\u001b[1;32m     <a href='file:///home/iref/.conda/envs/spbu_big_data/lib/python3.9/site-packages/ray/_private/gcs_utils.py?line=9'>10</a>\u001b[0m \u001b[39mfrom\u001b[39;00m \u001b[39mray\u001b[39;00m\u001b[39m.\u001b[39;00m\u001b[39mcore\u001b[39;00m\u001b[39m.\u001b[39;00m\u001b[39mgenerated\u001b[39;00m \u001b[39mimport\u001b[39;00m gcs_service_pb2_grpc\n",
      "\u001b[0;31mModuleNotFoundError\u001b[0m: No module named 'grpc'"
     ]
    }
   ],
   "source": [
    "import ray"
   ]
  },
  {
   "cell_type": "code",
   "execution_count": 2,
   "metadata": {},
   "outputs": [
    {
     "name": "stderr",
     "output_type": "stream",
     "text": [
      "2022-05-20 15:48:44,533\tINFO services.py:1456 -- View the Ray dashboard at \u001b[1m\u001b[32mhttp://127.0.0.1:8265\u001b[39m\u001b[22m\n"
     ]
    }
   ],
   "source": [
    "df = ray.data.read_csv('./cik.csv')"
   ]
  },
  {
   "cell_type": "code",
   "execution_count": null,
   "metadata": {},
   "outputs": [],
   "source": [
    "ray.init(include_dashboard=None, num_cpus=4)"
   ]
  }
 ],
 "metadata": {
  "interpreter": {
   "hash": "382ca439fc524a1ea86e041255c901681791a5def49b217b4ad3949432c016e4"
  },
  "kernelspec": {
   "display_name": "Python 3",
   "language": "python",
   "name": "python3"
  },
  "language_info": {
   "codemirror_mode": {
    "name": "ipython",
    "version": 3
   },
   "file_extension": ".py",
   "mimetype": "text/x-python",
   "name": "python",
   "nbconvert_exporter": "python",
   "pygments_lexer": "ipython3",
   "version": "3.9.12"
  }
 },
 "nbformat": 4,
 "nbformat_minor": 4
}
