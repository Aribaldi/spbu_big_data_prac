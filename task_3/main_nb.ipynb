{
 "cells": [
  {
   "cell_type": "code",
   "execution_count": 1,
   "metadata": {},
   "outputs": [],
   "source": [
    "import pyspark\n",
    "from pyspark.sql import SparkSession\n",
    "import pyspark.sql.functions as F\n",
    "from pyspark.sql.types import StructType, StructField, StringType, IntegerType\n"
   ]
  },
  {
   "cell_type": "code",
   "execution_count": 2,
   "metadata": {},
   "outputs": [],
   "source": [
    "FILENAME = './cik.csv'"
   ]
  },
  {
   "cell_type": "code",
   "execution_count": 3,
   "metadata": {},
   "outputs": [
    {
     "name": "stderr",
     "output_type": "stream",
     "text": [
      "Using Spark's default log4j profile: org/apache/spark/log4j-defaults.properties\n",
      "Setting default log level to \"WARN\".\n",
      "To adjust logging level use sc.setLogLevel(newLevel). For SparkR, use setLogLevel(newLevel).\n",
      "22/05/20 15:56:14 WARN NativeCodeLoader: Unable to load native-hadoop library for your platform... using builtin-java classes where applicable\n"
     ]
    }
   ],
   "source": [
    "spark = SparkSession \\\n",
    "    .builder \\\n",
    "    .appName('pyspark') \\\n",
    "    .getOrCreate()"
   ]
  },
  {
   "cell_type": "code",
   "execution_count": 4,
   "metadata": {},
   "outputs": [],
   "source": [
    "schema = StructType([\n",
    "    StructField('region', StringType(), False),\n",
    "    StructField('tik', StringType(), False),\n",
    "    StructField('uik', StringType(), False),\n",
    "    StructField('registered_voters', IntegerType(), False),\n",
    "    StructField('total_ballots', IntegerType(), False),\n",
    "    StructField('early_voters', IntegerType(), False),\n",
    "    StructField('tik_voters', IntegerType(), False),\n",
    "    StructField('home_voters', IntegerType(), False),\n",
    "    StructField('empty_ballots', IntegerType(), False),\n",
    "    StructField('home_ballots', IntegerType(), False),\n",
    "    StructField('tik_ballots', IntegerType(), False),\n",
    "    StructField('bad_ballots', IntegerType(), False),\n",
    "    StructField('normal_ballots', IntegerType(), False),\n",
    "    StructField('missing_ballots', IntegerType(), False),\n",
    "    StructField('extra_ballots', IntegerType(), False),\n",
    "    StructField('baburin', IntegerType(), False),\n",
    "    StructField('grudinin', IntegerType(), False),\n",
    "    StructField('zhirinovsky', IntegerType(), False),\n",
    "    StructField('putin', IntegerType(), False),\n",
    "    StructField('sobchak', IntegerType(), False),\n",
    "    StructField('suraykin', IntegerType(), False),\n",
    "    StructField('titov', IntegerType(), False),\n",
    "    StructField('yavlinsky', IntegerType(), False),\n",
    "])"
   ]
  },
  {
   "cell_type": "code",
   "execution_count": 5,
   "metadata": {},
   "outputs": [],
   "source": [
    "df = spark.read.csv(FILENAME, schema=schema)"
   ]
  },
  {
   "cell_type": "markdown",
   "metadata": {},
   "source": [
    "найти явку (%) по всем регионам, результат отсортировать по убыванию"
   ]
  },
  {
   "cell_type": "code",
   "execution_count": 6,
   "metadata": {},
   "outputs": [
    {
     "name": "stderr",
     "output_type": "stream",
     "text": [
      "[Stage 0:==============>                                            (1 + 3) / 4]\r"
     ]
    },
    {
     "name": "stdout",
     "output_type": "stream",
     "text": [
      "+--------------------+------------------+\n",
      "|              region|        appearance|\n",
      "+--------------------+------------------+\n",
      "|Территория за пре...|0.9806986984380843|\n",
      "|     Республика Тыва|0.9366369316170003|\n",
      "|Ямало-Ненецкий ав...|0.9190125747324195|\n",
      "|Кабардино-Балкарс...|0.9180157863562131|\n",
      "|Республика Северн...|0.8998810071492768|\n",
      "| Республика Дагестан|0.8747795414462081|\n",
      "|Карачаево-Черкесс...|0.8740544668203033|\n",
      "| Кемеровская область|0.8322733516003962|\n",
      "|Чукотский автоном...|0.8228138695924391|\n",
      "|Республика Ингушетия|0.8195937165135314|\n",
      "|    Брянская область| 0.797078003370434|\n",
      "|   Тюменская область|0.7892544508025854|\n",
      "|  Краснодарский край|0.7786760339047925|\n",
      "|Республика Татарс...|0.7742157684137118|\n",
      "|Чувашская Республ...|0.7622296238501433|\n",
      "|Республика Башкор...|0.7544523455707033|\n",
      "|  Республика Бурятия|0.7519978782127258|\n",
      "|Республика Адыгея...|0.7431189118555477|\n",
      "| Ставропольский край|0.7384811380095883|\n",
      "|  Пензенская область|0.7374614571776765|\n",
      "+--------------------+------------------+\n",
      "only showing top 20 rows\n",
      "\n"
     ]
    },
    {
     "name": "stderr",
     "output_type": "stream",
     "text": [
      "                                                                                \r"
     ]
    }
   ],
   "source": [
    "appearance = df.groupBy(['region']) \\\n",
    "    .agg(F.sum('early_voters').alias('ev_sum'),\n",
    "        F.sum('tik_voters').alias('tv_sum'),\n",
    "        F.sum('home_voters').alias('hv_sum'),\n",
    "        F.sum('registered_voters').alias('total')) \\\n",
    "    .dropna()\n",
    "\n",
    "col_list = appearance.columns[1:-1]\n",
    "appearance = appearance.withColumn('appearance', sum([F.col(c) for c in col_list]) / appearance.total) \\\n",
    "    .sort('appearance', ascending=False) \\\n",
    "    .select(['region', 'appearance']) \\\n",
    "    .show()"
   ]
  },
  {
   "cell_type": "markdown",
   "metadata": {},
   "source": [
    " выбрать  произвольного кандидата и найти тот избирательный участок, на котором он получил наибольший результат (учитывать участки на которых проголосовало больше 300 человек)"
   ]
  },
  {
   "cell_type": "code",
   "execution_count": 12,
   "metadata": {},
   "outputs": [
    {
     "name": "stdout",
     "output_type": "stream",
     "text": [
      "+------------+---------------+---------+-------------------+\n",
      "|      region|            tik|      uik|              share|\n",
      "+------------+---------------+---------+-------------------+\n",
      "|город Москва|район Печатники|УИК №3709|0.18028846153846154|\n",
      "+------------+---------------+---------+-------------------+\n",
      "only showing top 1 row\n",
      "\n"
     ]
    }
   ],
   "source": [
    "cand = 'sobchak'\n",
    "cols = df.columns[5:8]\n",
    "temp = df.withColumn('overall_voted', sum([F.col(c) for c in cols]))\n",
    "candidat_votes = temp.filter(temp.overall_voted > 300) \\\n",
    "    .select(\n",
    "        df.region,\n",
    "        df.tik,\n",
    "        df.uik,\n",
    "    (F.col(cand)/df.registered_voters).alias('share')\n",
    ").dropna() \\\n",
    ".sort('share', ascending=False) \\\n",
    ".show(1)"
   ]
  },
  {
   "cell_type": "markdown",
   "metadata": {},
   "source": [
    "найти регион, где разница между ТИК с наибольшей явкой и наименьшей максимальна (учитывать %)"
   ]
  },
  {
   "cell_type": "code",
   "execution_count": 29,
   "metadata": {},
   "outputs": [
    {
     "name": "stdout",
     "output_type": "stream",
     "text": [
      "+--------------------+----------------+-------------------+-------------------+\n",
      "|              region|          max_ap|             min_ap|               diff|\n",
      "+--------------------+----------------+-------------------+-------------------+\n",
      "|Архангельская обл...|0.99795605518651|0.49936440677966104|0.49859164840684894|\n",
      "+--------------------+----------------+-------------------+-------------------+\n",
      "only showing top 1 row\n",
      "\n"
     ]
    }
   ],
   "source": [
    "appearance = df.groupBy(['region', 'tik']) \\\n",
    "    .agg(F.sum('early_voters').alias('ev_sum'),\n",
    "        F.sum('tik_voters').alias('tv_sum'),\n",
    "        F.sum('home_voters').alias('hv_sum'),\n",
    "        F.sum('registered_voters').alias('total')) \\\n",
    "    .dropna()\n",
    "\n",
    "col_list = appearance.columns[2:-1]\n",
    "appearance = appearance.withColumn('appearance', sum([F.col(c) for c in col_list]) / appearance.total) \\\n",
    "    .drop('ev_sum', 'tv_sum', 'hv_sum', 'total')\n",
    "\n",
    "appearance = appearance.groupBy(['region']) \\\n",
    "    .agg(F.max('appearance').alias('max_ap'),\n",
    "         F.min('appearance').alias('min_ap'))\n",
    "\n",
    "appearance = appearance.withColumn('diff', appearance.max_ap - appearance.min_ap) \\\n",
    ".sort('diff', ascending=False) \\\n",
    ".show(1)"
   ]
  },
  {
   "cell_type": "markdown",
   "metadata": {},
   "source": [
    "посчитать дисперсию по явке для каждого региона (по УИК)"
   ]
  },
  {
   "cell_type": "code",
   "execution_count": 36,
   "metadata": {},
   "outputs": [
    {
     "name": "stdout",
     "output_type": "stream",
     "text": [
      "+--------------------+-------------------+\n",
      "|              region|                std|\n",
      "+--------------------+-------------------+\n",
      "|Республика Саха (...|0.11374120492897338|\n",
      "|  Республика Хакасия|0.11719818576021894|\n",
      "|Республика Ингушетия| 0.0697747654830594|\n",
      "|Удмуртская Респуб...|0.09658085675037424|\n",
      "|     Камчатский край|0.16861471602822437|\n",
      "|Республика Башкор...|0.12284393684931046|\n",
      "|Карачаево-Черкесс...|0.12319562690839514|\n",
      "| Республика Дагестан|0.12935039014984046|\n",
      "|Республика Татарс...|0.14150150293888705|\n",
      "| Ставропольский край|0.13401966931050247|\n",
      "|Республика Северн...|0.07930140237807017|\n",
      "|    Хабаровский край|0.13813899925138123|\n",
      "| Республика Марий Эл| 0.0818500080733599|\n",
      "|Республика Адыгея...|0.16330124345063626|\n",
      "|  Республика Бурятия|0.13306357237654534|\n",
      "| Республика Калмыкия|0.15349925960543603|\n",
      "|       Пермский край|0.10105338052282166|\n",
      "|  Краснодарский край|0.13940623710253583|\n",
      "|     Приморский край|0.16641672216989184|\n",
      "|Кабардино-Балкарс...|0.03760708051294459|\n",
      "+--------------------+-------------------+\n",
      "only showing top 20 rows\n",
      "\n"
     ]
    }
   ],
   "source": [
    "temp = df.groupBy('region') \\\n",
    "    .agg(F.stddev((df.early_voters + df.home_voters + df.tik_voters) / df.registered_voters).alias('std')).show()"
   ]
  },
  {
   "cell_type": "markdown",
   "metadata": {},
   "source": [
    "для каждого кандидата посчитать таблицу: результат (%, округленный до целого) - количество УИК, на которых кандидат получил данный результат"
   ]
  },
  {
   "cell_type": "code",
   "execution_count": 74,
   "metadata": {},
   "outputs": [
    {
     "name": "stdout",
     "output_type": "stream",
     "text": [
      "baburin\n",
      "+-------------+-----+\n",
      "|baburin_share|count|\n",
      "+-------------+-----+\n",
      "|           45|    1|\n",
      "+-------------+-----+\n",
      "\n",
      "grudinin\n",
      "+--------------+-----+\n",
      "|grudinin_share|count|\n",
      "+--------------+-----+\n",
      "|            30|   36|\n",
      "|            31|   34|\n",
      "|            32|   34|\n",
      "|            34|   32|\n",
      "|            33|   21|\n",
      "|            35|   20|\n",
      "|            37|   20|\n",
      "|            36|   17|\n",
      "|            39|   11|\n",
      "|            38|    9|\n",
      "|            40|    9|\n",
      "|            50|    8|\n",
      "|            43|    7|\n",
      "|            42|    6|\n",
      "|            46|    5|\n",
      "|            41|    4|\n",
      "|            45|    4|\n",
      "|            44|    3|\n",
      "|            47|    3|\n",
      "|            52|    2|\n",
      "+--------------+-----+\n",
      "only showing top 20 rows\n",
      "\n",
      "zhirinovsky\n",
      "+-----------------+-----+\n",
      "|zhirinovsky_share|count|\n",
      "+-----------------+-----+\n",
      "|               30|   16|\n",
      "|               34|   14|\n",
      "|               40|    8|\n",
      "|               32|    6|\n",
      "|               42|    6|\n",
      "|               36|    6|\n",
      "|               37|    5|\n",
      "|               38|    5|\n",
      "|               31|    4|\n",
      "|               54|    3|\n",
      "|               35|    3|\n",
      "|               33|    2|\n",
      "|               39|    2|\n",
      "|               67|    2|\n",
      "|               47|    2|\n",
      "|               48|    2|\n",
      "|               45|    2|\n",
      "|               50|    1|\n",
      "|               56|    1|\n",
      "|               79|    1|\n",
      "+-----------------+-----+\n",
      "only showing top 20 rows\n",
      "\n",
      "putin\n",
      "+-----------+-----+\n",
      "|putin_share|count|\n",
      "+-----------+-----+\n",
      "|         45| 3651|\n",
      "|         46| 3608|\n",
      "|         44| 3596|\n",
      "|         43| 3542|\n",
      "|         47| 3375|\n",
      "|         48| 3199|\n",
      "|         42| 3107|\n",
      "|         49| 3030|\n",
      "|         50| 2840|\n",
      "|         41| 2735|\n",
      "|         40| 2532|\n",
      "|         51| 2356|\n",
      "|         52| 2272|\n",
      "|         53| 2082|\n",
      "|         39| 1954|\n",
      "|         54| 1940|\n",
      "|         55| 1766|\n",
      "|         38| 1645|\n",
      "|         56| 1595|\n",
      "|         57| 1571|\n",
      "+-----------+-----+\n",
      "only showing top 20 rows\n",
      "\n",
      "sobchak\n",
      "+-------------+-----+\n",
      "|sobchak_share|count|\n",
      "+-------------+-----+\n",
      "|           37|    1|\n",
      "|           31|    1|\n",
      "+-------------+-----+\n",
      "\n",
      "suraykin\n",
      "+--------------+-----+\n",
      "|suraykin_share|count|\n",
      "+--------------+-----+\n",
      "+--------------+-----+\n",
      "\n",
      "titov\n",
      "+-----------+-----+\n",
      "|titov_share|count|\n",
      "+-----------+-----+\n",
      "|         30|    1|\n",
      "+-----------+-----+\n",
      "\n",
      "yavlinsky\n",
      "+---------------+-----+\n",
      "|yavlinsky_share|count|\n",
      "+---------------+-----+\n",
      "+---------------+-----+\n",
      "\n"
     ]
    }
   ],
   "source": [
    "def show_share_counts(cand, result):\n",
    "    temp = df.withColumn(f'{cand}_share', F.ceil(100 * F.col(cand) / df.registered_voters))\n",
    "    temp = temp.filter(F.col(f'{cand}_share') >=  result). \\\n",
    "        groupBy(F.col(f'{cand}_share')) \\\n",
    "        .agg(F.count(F.col(f'{cand}_share')).alias('count')) \\\n",
    "        .sort(F.col('count'), ascending=False) \\\n",
    "        .show()\n",
    "\n",
    "result = 30\n",
    "cands_list = df.columns[-8:]\n",
    "for c in cands_list:\n",
    "    print(c)\n",
    "    show_share_counts(c, result)"
   ]
  },
  {
   "cell_type": "code",
   "execution_count": null,
   "metadata": {},
   "outputs": [],
   "source": []
  }
 ],
 "metadata": {
  "interpreter": {
   "hash": "382ca439fc524a1ea86e041255c901681791a5def49b217b4ad3949432c016e4"
  },
  "kernelspec": {
   "display_name": "Python 3.9.12 ('spbu_big_data')",
   "language": "python",
   "name": "python3"
  },
  "language_info": {
   "codemirror_mode": {
    "name": "ipython",
    "version": 3
   },
   "file_extension": ".py",
   "mimetype": "text/x-python",
   "name": "python",
   "nbconvert_exporter": "python",
   "pygments_lexer": "ipython3",
   "version": "3.9.12"
  },
  "orig_nbformat": 4
 },
 "nbformat": 4,
 "nbformat_minor": 2
}
